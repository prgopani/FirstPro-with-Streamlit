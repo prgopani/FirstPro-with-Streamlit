{
 "cells": [
  {
   "cell_type": "code",
   "execution_count": 1,
   "id": "27002b4b-567a-4694-a466-98e1e822a682",
   "metadata": {},
   "outputs": [],
   "source": [
    "import pandas as pd\n",
    "import numpy as np\n",
    "from sklearn.model_selection import train_test_split\n",
    "from sklearn.ensemble import RandomForestRegressor\n",
    "from sklearn.metrics import mean_absolute_error, mean_squared_error, r2_score\n",
    "import joblib\n",
    "from sklearn.compose import ColumnTransformer\n",
    "from sklearn.preprocessing import OneHotEncoder\n",
    "from sklearn.pipeline import Pipeline,make_pipeline\n",
    "from sklearn.linear_model import LinearRegression"
   ]
  },
  {
   "cell_type": "code",
   "execution_count": 2,
   "id": "01b63e77",
   "metadata": {},
   "outputs": [],
   "source": [
    "df = pd.read_csv('deliverytime.csv')"
   ]
  },
  {
   "cell_type": "code",
   "execution_count": 3,
   "id": "ddf8c436",
   "metadata": {},
   "outputs": [
    {
     "data": {
      "text/html": [
       "<div>\n",
       "<style scoped>\n",
       "    .dataframe tbody tr th:only-of-type {\n",
       "        vertical-align: middle;\n",
       "    }\n",
       "\n",
       "    .dataframe tbody tr th {\n",
       "        vertical-align: top;\n",
       "    }\n",
       "\n",
       "    .dataframe thead th {\n",
       "        text-align: right;\n",
       "    }\n",
       "</style>\n",
       "<table border=\"1\" class=\"dataframe\">\n",
       "  <thead>\n",
       "    <tr style=\"text-align: right;\">\n",
       "      <th></th>\n",
       "      <th>Delivery_person_Age</th>\n",
       "      <th>Delivery_person_Ratings</th>\n",
       "      <th>Type_of_order</th>\n",
       "      <th>Type_of_vehicle</th>\n",
       "      <th>Time_taken(min)</th>\n",
       "      <th>distance</th>\n",
       "    </tr>\n",
       "  </thead>\n",
       "  <tbody>\n",
       "    <tr>\n",
       "      <th>44232</th>\n",
       "      <td>35</td>\n",
       "      <td>4.8</td>\n",
       "      <td>Drinks</td>\n",
       "      <td>motorcycle</td>\n",
       "      <td>28</td>\n",
       "      <td>13</td>\n",
       "    </tr>\n",
       "    <tr>\n",
       "      <th>38238</th>\n",
       "      <td>31</td>\n",
       "      <td>4.9</td>\n",
       "      <td>Drinks</td>\n",
       "      <td>scooter</td>\n",
       "      <td>42</td>\n",
       "      <td>23</td>\n",
       "    </tr>\n",
       "    <tr>\n",
       "      <th>3477</th>\n",
       "      <td>32</td>\n",
       "      <td>4.7</td>\n",
       "      <td>Meal</td>\n",
       "      <td>motorcycle</td>\n",
       "      <td>36</td>\n",
       "      <td>19</td>\n",
       "    </tr>\n",
       "    <tr>\n",
       "      <th>8764</th>\n",
       "      <td>22</td>\n",
       "      <td>4.9</td>\n",
       "      <td>Drinks</td>\n",
       "      <td>motorcycle</td>\n",
       "      <td>35</td>\n",
       "      <td>18</td>\n",
       "    </tr>\n",
       "    <tr>\n",
       "      <th>44197</th>\n",
       "      <td>22</td>\n",
       "      <td>4.8</td>\n",
       "      <td>Drinks</td>\n",
       "      <td>scooter</td>\n",
       "      <td>14</td>\n",
       "      <td>4</td>\n",
       "    </tr>\n",
       "  </tbody>\n",
       "</table>\n",
       "</div>"
      ],
      "text/plain": [
       "       Delivery_person_Age  Delivery_person_Ratings Type_of_order  \\\n",
       "44232                   35                      4.8       Drinks    \n",
       "38238                   31                      4.9       Drinks    \n",
       "3477                    32                      4.7         Meal    \n",
       "8764                    22                      4.9       Drinks    \n",
       "44197                   22                      4.8       Drinks    \n",
       "\n",
       "      Type_of_vehicle  Time_taken(min)  distance  \n",
       "44232     motorcycle                28        13  \n",
       "38238        scooter                42        23  \n",
       "3477      motorcycle                36        19  \n",
       "8764      motorcycle                35        18  \n",
       "44197        scooter                14         4  "
      ]
     },
     "execution_count": 3,
     "metadata": {},
     "output_type": "execute_result"
    }
   ],
   "source": [
    "df = df.loc[:, ['Delivery_person_Age', 'Delivery_person_Ratings','Type_of_order','Type_of_vehicle','Time_taken(min)']]\n",
    "\n",
    "# Generate 'distance' using a proportional scaling approach\n",
    "# Min-Max Scaling to Map Time to Distance \n",
    "df['distance'] = (df['Time_taken(min)'] - df['Time_taken(min)'].min()) / (df['Time_taken(min)'].max() - df['Time_taken(min)'].min()) * 30 + 1\n",
    "\n",
    "# Round to integer values\n",
    "df['distance'] = df['distance'].round().astype(int)\n",
    "\n",
    "df.sample(5)"
   ]
  },
  {
   "cell_type": "code",
   "execution_count": 4,
   "id": "0e19b906-1cdd-446e-b494-dac95bbc5ac9",
   "metadata": {},
   "outputs": [],
   "source": [
    "cat_col = columns=['Type_of_order', 'Type_of_vehicle']\n",
    "\n",
    "trf1 = ColumnTransformer([\n",
    "    ('ohe',OneHotEncoder(sparse_output=False,handle_unknown='ignore'),cat_col)\n",
    "],remainder='passthrough')\n",
    "\n",
    "trf2 = LinearRegression()\n",
    "\n",
    "pipe = Pipeline([\n",
    "    ('trf1',trf1),\n",
    "    ('trf2',trf2)\n",
    "])\n",
    "\n",
    "# Separate features and target\n",
    "X = df.drop('Time_taken(min)', axis=1)\n",
    "y = df['Time_taken(min)']\n",
    "\n",
    "# Train-test split\n",
    "X_train, X_test, y_train, y_test = train_test_split(X, y, test_size=0.2, random_state=42)\n",
    "\n",
    "pipe.fit(X_train,y_train)\n",
    "y_pred = pipe.predict(X_test)"
   ]
  },
  {
   "cell_type": "code",
   "execution_count": 5,
   "id": "f7b7fb2c",
   "metadata": {},
   "outputs": [
    {
     "name": "stdout",
     "output_type": "stream",
     "text": [
      "MAE: 0.3549180485113136\n",
      "MSE: 0.17015384286392793\n",
      "R2 Score: 0.9980593355514586\n"
     ]
    }
   ],
   "source": [
    "# Evaluate the model\n",
    "mae = mean_absolute_error(y_test, y_pred)\n",
    "mse = mean_squared_error(y_test, y_pred)\n",
    "r2 = r2_score(y_test, y_pred)\n",
    "\n",
    "print(f'MAE: {mae}')\n",
    "print(f'MSE: {mse}')\n",
    "print(f'R2 Score: {r2}')\n"
   ]
  },
  {
   "cell_type": "code",
   "execution_count": 6,
   "id": "6b6f3852",
   "metadata": {},
   "outputs": [
    {
     "name": "stdout",
     "output_type": "stream",
     "text": [
      "Model saved as 'timelytics_model.pkl'\n"
     ]
    }
   ],
   "source": [
    "# Save the trained model using joblib\n",
    "joblib.dump(pipe, 'timelytics_model.pkl')\n",
    "print(\"Model saved as 'timelytics_model.pkl'\")\n"
   ]
  }
 ],
 "metadata": {
  "kernelspec": {
   "display_name": "myenv",
   "language": "python",
   "name": "python3"
  },
  "language_info": {
   "codemirror_mode": {
    "name": "ipython",
    "version": 3
   },
   "file_extension": ".py",
   "mimetype": "text/x-python",
   "name": "python",
   "nbconvert_exporter": "python",
   "pygments_lexer": "ipython3",
   "version": "3.12.4"
  }
 },
 "nbformat": 4,
 "nbformat_minor": 5
}
